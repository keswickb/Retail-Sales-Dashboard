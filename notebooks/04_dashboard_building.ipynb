{
 "cells": [
  {
   "cell_type": "code",
   "execution_count": 1,
   "id": "9074aa50-9d8c-4580-801f-f55fbab10070",
   "metadata": {},
   "outputs": [
    {
     "name": "stderr",
     "output_type": "stream",
     "text": [
      "2025-08-18 22:12:44.939 WARNING streamlit.runtime.scriptrunner_utils.script_run_context: Thread 'MainThread': missing ScriptRunContext! This warning can be ignored when running in bare mode.\n",
      "2025-08-18 22:12:52.653 \n",
      "  \u001b[33m\u001b[1mWarning:\u001b[0m to view this Streamlit app on a browser, run it with the following\n",
      "  command:\n",
      "\n",
      "    streamlit run /Library/Frameworks/Python.framework/Versions/3.10/lib/python3.10/site-packages/ipykernel_launcher.py [ARGUMENTS]\n",
      "2025-08-18 22:12:52.658 Thread 'MainThread': missing ScriptRunContext! This warning can be ignored when running in bare mode.\n",
      "2025-08-18 22:12:52.663 Thread 'MainThread': missing ScriptRunContext! This warning can be ignored when running in bare mode.\n",
      "2025-08-18 22:12:52.671 Thread 'MainThread': missing ScriptRunContext! This warning can be ignored when running in bare mode.\n",
      "2025-08-18 22:12:52.675 Thread 'MainThread': missing ScriptRunContext! This warning can be ignored when running in bare mode.\n",
      "2025-08-18 22:12:52.689 Thread 'MainThread': missing ScriptRunContext! This warning can be ignored when running in bare mode.\n",
      "2025-08-18 22:12:52.697 Thread 'MainThread': missing ScriptRunContext! This warning can be ignored when running in bare mode.\n",
      "2025-08-18 22:12:52.706 Session state does not function when running a script without `streamlit run`\n",
      "2025-08-18 22:12:52.713 Thread 'MainThread': missing ScriptRunContext! This warning can be ignored when running in bare mode.\n",
      "2025-08-18 22:12:52.720 Thread 'MainThread': missing ScriptRunContext! This warning can be ignored when running in bare mode.\n",
      "2025-08-18 22:12:52.726 Thread 'MainThread': missing ScriptRunContext! This warning can be ignored when running in bare mode.\n",
      "2025-08-18 22:12:55.282 Thread 'MainThread': missing ScriptRunContext! This warning can be ignored when running in bare mode.\n",
      "2025-08-18 22:12:55.361 Thread 'MainThread': missing ScriptRunContext! This warning can be ignored when running in bare mode.\n",
      "2025-08-18 22:12:55.464 Thread 'MainThread': missing ScriptRunContext! This warning can be ignored when running in bare mode.\n",
      "2025-08-18 22:12:55.532 Thread 'MainThread': missing ScriptRunContext! This warning can be ignored when running in bare mode.\n",
      "2025-08-18 22:12:55.546 Thread 'MainThread': missing ScriptRunContext! This warning can be ignored when running in bare mode.\n",
      "2025-08-18 22:12:57.832 Thread 'MainThread': missing ScriptRunContext! This warning can be ignored when running in bare mode.\n",
      "2025-08-18 22:12:57.841 Thread 'MainThread': missing ScriptRunContext! This warning can be ignored when running in bare mode.\n",
      "2025-08-18 22:12:57.848 Thread 'MainThread': missing ScriptRunContext! This warning can be ignored when running in bare mode.\n",
      "2025-08-18 22:12:57.850 Thread 'MainThread': missing ScriptRunContext! This warning can be ignored when running in bare mode.\n",
      "2025-08-18 22:12:57.856 Thread 'MainThread': missing ScriptRunContext! This warning can be ignored when running in bare mode.\n",
      "2025-08-18 22:12:59.209 Thread 'MainThread': missing ScriptRunContext! This warning can be ignored when running in bare mode.\n",
      "2025-08-18 22:12:59.211 Thread 'MainThread': missing ScriptRunContext! This warning can be ignored when running in bare mode.\n",
      "2025-08-18 22:12:59.227 Thread 'MainThread': missing ScriptRunContext! This warning can be ignored when running in bare mode.\n",
      "2025-08-18 22:12:59.252 Thread 'MainThread': missing ScriptRunContext! This warning can be ignored when running in bare mode.\n",
      "2025-08-18 22:12:59.256 Thread 'MainThread': missing ScriptRunContext! This warning can be ignored when running in bare mode.\n"
     ]
    },
    {
     "data": {
      "text/plain": [
       "DeltaGenerator()"
      ]
     },
     "execution_count": 1,
     "metadata": {},
     "output_type": "execute_result"
    }
   ],
   "source": [
    "# dashboard_building.ipynb\n",
    "\n",
    "import pandas as pd\n",
    "import streamlit as st\n",
    "import plotly.express as px\n",
    "\n",
    "# Load cleaned dataset\n",
    "df = pd.read_csv(\"/Users/Keswickb/Desktop/retail-sales-dashboard/data/processed/retail_sales_clean.csv\", parse_dates=['order_date'])\n",
    "\n",
    "st.title(\"📊 Retail Sales Dashboard\")\n",
    "\n",
    "# --- Filters ---\n",
    "region = st.selectbox(\"Select Region\", df[\"region\"].unique())\n",
    "filtered_df = df[df[\"region\"] == region]\n",
    "\n",
    "# Sales Over Time\n",
    "sales_over_time = filtered_df.groupby(\"order_date\")[\"sales\"].sum().reset_index()\n",
    "fig1 = px.line(sales_over_time, x=\"order_date\", y=\"sales\", title=f\"Sales Over Time in {region}\")\n",
    "st.plotly_chart(fig1)\n",
    "\n",
    "# Sales by Category \n",
    "fig2 = px.bar(filtered_df, x=\"category\", y=\"sales\", color=\"category\", title=\"Sales by Category\", barmode=\"group\")\n",
    "st.plotly_chart(fig2)\n",
    "\n",
    "# Top Products \n",
    "top_products = (\n",
    "    filtered_df.groupby(\"product_name\")[\"sales\"]\n",
    "    .sum()\n",
    "    .sort_values(ascending=False)\n",
    "    .head(10)\n",
    "    .reset_index()\n",
    ")\n",
    "fig3 = px.bar(top_products, x=\"product_name\", y=\"sales\", title=\"Top 10 Products\")\n",
    "st.plotly_chart(fig3)\n"
   ]
  }
 ],
 "metadata": {
  "kernelspec": {
   "display_name": "Python 3 (ipykernel)",
   "language": "python",
   "name": "python3"
  },
  "language_info": {
   "codemirror_mode": {
    "name": "ipython",
    "version": 3
   },
   "file_extension": ".py",
   "mimetype": "text/x-python",
   "name": "python",
   "nbconvert_exporter": "python",
   "pygments_lexer": "ipython3",
   "version": "3.10.4"
  }
 },
 "nbformat": 4,
 "nbformat_minor": 5
}
