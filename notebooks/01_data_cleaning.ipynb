{
 "cells": [
  {
   "cell_type": "code",
   "execution_count": 1,
   "id": "bf4191ff-35c9-46d1-a6be-45dbb8191b6b",
   "metadata": {},
   "outputs": [
    {
     "name": "stdout",
     "output_type": "stream",
     "text": [
      "✅ Data cleaned and saved to ../data/processed/retail_sales_clean.csv\n",
      "Columns: Index(['row_id', 'order_id', 'order_date', 'ship_date', 'ship_mode',\n",
      "       'customer_id', 'customer_name', 'segment', 'country', 'city', 'state',\n",
      "       'postal_code', 'region', 'product_id', 'category', 'sub-category',\n",
      "       'product_name', 'sales'],\n",
      "      dtype='object')\n"
     ]
    }
   ],
   "source": [
    "import pandas as pd\n",
    "\n",
    "# Load raw dataset\n",
    "df = pd.read_csv(\"/Users/Keswickb/Desktop/retail-sales-dashboard/data/raw/retail_sales.csv\")\n",
    "\n",
    "# --- Standardize column names (all lowercase, underscores instead of spaces) ---\n",
    "df.rename(columns=lambda x: x.strip().lower().replace(\" \", \"_\"), inplace=True)\n",
    "\n",
    "# Convert order_date & ship_date to datetime (day-first format)\n",
    "df['order_date'] = pd.to_datetime(df['order_date'], dayfirst=True, errors='coerce')\n",
    "df['ship_date'] = pd.to_datetime(df['ship_date'], dayfirst=True, errors='coerce')\n",
    "\n",
    "# Handle missing values\n",
    "df = df.dropna()\n",
    "\n",
    "# Convert data types\n",
    "df['sales'] = df['sales'].astype(float)\n",
    "df['region'] = df['region'].astype('category')\n",
    "df['category'] = df['category'].astype('category')\n",
    "\n",
    "# Save cleaned dataset\n",
    "df.to_csv(\"../data/processed/retail_sales_clean.csv\", index=False)\n",
    "\n",
    "print(\"✅ Data cleaned and saved to ../data/processed/retail_sales_clean.csv\")\n",
    "print(\"Columns:\", df.columns)\n"
   ]
  }
 ],
 "metadata": {
  "kernelspec": {
   "display_name": "Python 3 (ipykernel)",
   "language": "python",
   "name": "python3"
  },
  "language_info": {
   "codemirror_mode": {
    "name": "ipython",
    "version": 3
   },
   "file_extension": ".py",
   "mimetype": "text/x-python",
   "name": "python",
   "nbconvert_exporter": "python",
   "pygments_lexer": "ipython3",
   "version": "3.10.4"
  }
 },
 "nbformat": 4,
 "nbformat_minor": 5
}
